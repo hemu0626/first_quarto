{
  "cells": [
    {
      "cell_type": "raw",
      "metadata": {},
      "source": [
        "---\n",
        "title: \"Basics\"\n",
        "bibliography: references.bib\n",
        "---"
      ],
      "id": "ce2aee9c"
    },
    {
      "cell_type": "markdown",
      "metadata": {},
      "source": [
        "## Survival Analysis in Scikit-survival\n",
        "\n",
        "The more detail introduction part can be found at [@scikit-s].\n",
        "\n",
        "The survival analysis is also known as time to event analysis, one of the key characteristics is that it involves censoring.\n",
        "\n",
        "\n",
        "```{=tex}\n",
        "\\begin{split}y = \\min(t, c) =\n",
        "\\begin{cases}\n",
        "t & \\text{if } \\delta = 1 , \\\\\n",
        "c & \\text{if } \\delta = 0 .\n",
        "\\end{cases}\\end{split}\n",
        "```"
      ],
      "id": "2f7b4715"
    },
    {
      "cell_type": "code",
      "metadata": {},
      "source": [
        "from sksurv.datasets import load_veterans_lung_cancer\n",
        "\n",
        "data_x, data_y = load_veterans_lung_cancer()\n",
        "data_y"
      ],
      "id": "443d215b",
      "execution_count": null,
      "outputs": []
    },
    {
      "cell_type": "markdown",
      "metadata": {},
      "source": [
        "## Reference"
      ],
      "id": "fbb5ce2f"
    }
  ],
  "metadata": {
    "kernelspec": {
      "name": "python3",
      "language": "python",
      "display_name": "Python 3 (ipykernel)"
    }
  },
  "nbformat": 4,
  "nbformat_minor": 5
}