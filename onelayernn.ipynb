{
  "cells": [
    {
      "cell_type": "raw",
      "metadata": {},
      "source": [
        "---\n",
        "title: \"One Layer Neural Network\"\n",
        "---"
      ],
      "id": "8b50f659"
    },
    {
      "cell_type": "markdown",
      "metadata": {},
      "source": [
        "### Build Neural Network to predict\n",
        "\n",
        "#### Demo \n"
      ],
      "id": "9f9f9d37"
    },
    {
      "cell_type": "code",
      "metadata": {},
      "source": [
        "from sklearn.neural_network import MLPClassifier\n",
        "X = [[0., 0.], [1., 1.]]\n",
        "y = [0, 1]\n",
        "clf = MLPClassifier(solver='lbfgs', alpha=1e-5,\n",
        "                    hidden_layer_sizes=(5, 2), random_state=1)\n",
        "clf.fit(X, y)"
      ],
      "id": "5690e003",
      "execution_count": null,
      "outputs": []
    },
    {
      "cell_type": "code",
      "metadata": {},
      "source": [
        "clf.predict([[2., 2.], [-1., -2.]])\n",
        "[coef.shape for coef in clf.coefs_]\n",
        "\n",
        "clf.predict_proba([[2., 2.], [1., 2.]])"
      ],
      "id": "e143888a",
      "execution_count": null,
      "outputs": []
    },
    {
      "cell_type": "code",
      "metadata": {},
      "source": [
        "X = [[0., 0.], [1., 1.]]\n",
        "y = [[0, 1], [1, 1]]\n",
        "clf = MLPClassifier(solver='lbfgs', alpha=1e-5,\n",
        "                    hidden_layer_sizes=(15,), random_state=1)\n",
        "clf.fit(X, y)\n",
        "clf.predict([[1., 2.]])\n",
        "clf.predict([[0., 0.]])"
      ],
      "id": "af84b276",
      "execution_count": null,
      "outputs": []
    },
    {
      "cell_type": "markdown",
      "metadata": {},
      "source": [
        "#### Visualization of MLP weights on MNIST"
      ],
      "id": "e6fd194b"
    }
  ],
  "metadata": {
    "kernelspec": {
      "name": "python3",
      "language": "python",
      "display_name": "Python 3 (ipykernel)"
    }
  },
  "nbformat": 4,
  "nbformat_minor": 5
}